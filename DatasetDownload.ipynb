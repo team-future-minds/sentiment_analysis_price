{
 "cells": [
  {
   "cell_type": "code",
   "execution_count": 1,
   "id": "2a0cc2bd-dfac-49d6-a81c-18f42f81a63f",
   "metadata": {},
   "outputs": [
    {
     "ename": "ModuleNotFoundError",
     "evalue": "No module named 'numpy'",
     "output_type": "error",
     "traceback": [
      "\u001b[31m---------------------------------------------------------------------------\u001b[39m",
      "\u001b[31mModuleNotFoundError\u001b[39m                       Traceback (most recent call last)",
      "\u001b[36mCell\u001b[39m\u001b[36m \u001b[39m\u001b[32mIn[1]\u001b[39m\u001b[32m, line 1\u001b[39m\n\u001b[32m----> \u001b[39m\u001b[32m1\u001b[39m \u001b[38;5;28;01mimport\u001b[39;00m\u001b[38;5;250m \u001b[39m\u001b[34;01mnumpy\u001b[39;00m\u001b[38;5;250m \u001b[39m\u001b[38;5;28;01mas\u001b[39;00m\u001b[38;5;250m \u001b[39m\u001b[34;01mnp\u001b[39;00m\n",
      "\u001b[31mModuleNotFoundError\u001b[39m: No module named 'numpy'"
     ]
    }
   ],
   "source": [
    "import numpy as np"
   ]
  },
  {
   "cell_type": "code",
   "execution_count": 2,
   "id": "274d2501-bb58-474b-8e35-b1d950fe752a",
   "metadata": {},
   "outputs": [
    {
     "name": "stdout",
     "output_type": "stream",
     "text": [
      "Requirement already satisfied: notebook in d:\\fyp\\price sentiment\\venv\\lib\\site-packages (7.3.2)\n",
      "Requirement already satisfied: jupyter-server<3,>=2.4.0 in d:\\fyp\\price sentiment\\venv\\lib\\site-packages (from notebook) (2.15.0)\n",
      "Requirement already satisfied: jupyterlab-server<3,>=2.27.1 in d:\\fyp\\price sentiment\\venv\\lib\\site-packages (from notebook) (2.27.3)\n",
      "Requirement already satisfied: jupyterlab<4.4,>=4.3.4 in d:\\fyp\\price sentiment\\venv\\lib\\site-packages (from notebook) (4.3.5)\n",
      "Requirement already satisfied: notebook-shim<0.3,>=0.2 in d:\\fyp\\price sentiment\\venv\\lib\\site-packages (from notebook) (0.2.4)\n",
      "Requirement already satisfied: tornado>=6.2.0 in d:\\fyp\\price sentiment\\venv\\lib\\site-packages (from notebook) (6.4.2)\n",
      "Requirement already satisfied: anyio>=3.1.0 in d:\\fyp\\price sentiment\\venv\\lib\\site-packages (from jupyter-server<3,>=2.4.0->notebook) (4.8.0)\n",
      "Requirement already satisfied: argon2-cffi>=21.1 in d:\\fyp\\price sentiment\\venv\\lib\\site-packages (from jupyter-server<3,>=2.4.0->notebook) (23.1.0)\n",
      "Requirement already satisfied: jinja2>=3.0.3 in d:\\fyp\\price sentiment\\venv\\lib\\site-packages (from jupyter-server<3,>=2.4.0->notebook) (3.1.5)\n",
      "Requirement already satisfied: jupyter-client>=7.4.4 in d:\\fyp\\price sentiment\\venv\\lib\\site-packages (from jupyter-server<3,>=2.4.0->notebook) (8.6.3)\n",
      "Requirement already satisfied: jupyter-core!=5.0.*,>=4.12 in d:\\fyp\\price sentiment\\venv\\lib\\site-packages (from jupyter-server<3,>=2.4.0->notebook) (5.7.2)\n",
      "Requirement already satisfied: jupyter-events>=0.11.0 in d:\\fyp\\price sentiment\\venv\\lib\\site-packages (from jupyter-server<3,>=2.4.0->notebook) (0.12.0)\n",
      "Requirement already satisfied: jupyter-server-terminals>=0.4.4 in d:\\fyp\\price sentiment\\venv\\lib\\site-packages (from jupyter-server<3,>=2.4.0->notebook) (0.5.3)\n",
      "Requirement already satisfied: nbconvert>=6.4.4 in d:\\fyp\\price sentiment\\venv\\lib\\site-packages (from jupyter-server<3,>=2.4.0->notebook) (7.16.6)\n",
      "Requirement already satisfied: nbformat>=5.3.0 in d:\\fyp\\price sentiment\\venv\\lib\\site-packages (from jupyter-server<3,>=2.4.0->notebook) (5.10.4)\n",
      "Requirement already satisfied: overrides>=5.0 in d:\\fyp\\price sentiment\\venv\\lib\\site-packages (from jupyter-server<3,>=2.4.0->notebook) (7.7.0)\n",
      "Requirement already satisfied: packaging>=22.0 in d:\\fyp\\price sentiment\\venv\\lib\\site-packages (from jupyter-server<3,>=2.4.0->notebook) (24.2)\n",
      "Requirement already satisfied: prometheus-client>=0.9 in d:\\fyp\\price sentiment\\venv\\lib\\site-packages (from jupyter-server<3,>=2.4.0->notebook) (0.21.1)\n",
      "Requirement already satisfied: pywinpty>=2.0.1 in d:\\fyp\\price sentiment\\venv\\lib\\site-packages (from jupyter-server<3,>=2.4.0->notebook) (2.0.15)\n",
      "Requirement already satisfied: pyzmq>=24 in d:\\fyp\\price sentiment\\venv\\lib\\site-packages (from jupyter-server<3,>=2.4.0->notebook) (26.2.1)\n",
      "Requirement already satisfied: send2trash>=1.8.2 in d:\\fyp\\price sentiment\\venv\\lib\\site-packages (from jupyter-server<3,>=2.4.0->notebook) (1.8.3)\n",
      "Requirement already satisfied: terminado>=0.8.3 in d:\\fyp\\price sentiment\\venv\\lib\\site-packages (from jupyter-server<3,>=2.4.0->notebook) (0.18.1)\n",
      "Requirement already satisfied: traitlets>=5.6.0 in d:\\fyp\\price sentiment\\venv\\lib\\site-packages (from jupyter-server<3,>=2.4.0->notebook) (5.14.3)\n",
      "Requirement already satisfied: websocket-client>=1.7 in d:\\fyp\\price sentiment\\venv\\lib\\site-packages (from jupyter-server<3,>=2.4.0->notebook) (1.8.0)\n",
      "Requirement already satisfied: async-lru>=1.0.0 in d:\\fyp\\price sentiment\\venv\\lib\\site-packages (from jupyterlab<4.4,>=4.3.4->notebook) (2.0.4)\n",
      "Requirement already satisfied: httpx>=0.25.0 in d:\\fyp\\price sentiment\\venv\\lib\\site-packages (from jupyterlab<4.4,>=4.3.4->notebook) (0.28.1)\n",
      "Requirement already satisfied: ipykernel>=6.5.0 in d:\\fyp\\price sentiment\\venv\\lib\\site-packages (from jupyterlab<4.4,>=4.3.4->notebook) (6.29.5)\n",
      "Requirement already satisfied: jupyter-lsp>=2.0.0 in d:\\fyp\\price sentiment\\venv\\lib\\site-packages (from jupyterlab<4.4,>=4.3.4->notebook) (2.2.5)\n",
      "Requirement already satisfied: setuptools>=40.8.0 in d:\\fyp\\price sentiment\\venv\\lib\\site-packages (from jupyterlab<4.4,>=4.3.4->notebook) (75.8.2)\n",
      "Requirement already satisfied: babel>=2.10 in d:\\fyp\\price sentiment\\venv\\lib\\site-packages (from jupyterlab-server<3,>=2.27.1->notebook) (2.17.0)\n",
      "Requirement already satisfied: json5>=0.9.0 in d:\\fyp\\price sentiment\\venv\\lib\\site-packages (from jupyterlab-server<3,>=2.27.1->notebook) (0.10.0)\n",
      "Requirement already satisfied: jsonschema>=4.18.0 in d:\\fyp\\price sentiment\\venv\\lib\\site-packages (from jupyterlab-server<3,>=2.27.1->notebook) (4.23.0)\n",
      "Requirement already satisfied: requests>=2.31 in d:\\fyp\\price sentiment\\venv\\lib\\site-packages (from jupyterlab-server<3,>=2.27.1->notebook) (2.32.3)\n",
      "Requirement already satisfied: idna>=2.8 in d:\\fyp\\price sentiment\\venv\\lib\\site-packages (from anyio>=3.1.0->jupyter-server<3,>=2.4.0->notebook) (3.10)\n",
      "Requirement already satisfied: sniffio>=1.1 in d:\\fyp\\price sentiment\\venv\\lib\\site-packages (from anyio>=3.1.0->jupyter-server<3,>=2.4.0->notebook) (1.3.1)\n",
      "Requirement already satisfied: argon2-cffi-bindings in d:\\fyp\\price sentiment\\venv\\lib\\site-packages (from argon2-cffi>=21.1->jupyter-server<3,>=2.4.0->notebook) (21.2.0)\n",
      "Requirement already satisfied: certifi in d:\\fyp\\price sentiment\\venv\\lib\\site-packages (from httpx>=0.25.0->jupyterlab<4.4,>=4.3.4->notebook) (2025.1.31)\n",
      "Requirement already satisfied: httpcore==1.* in d:\\fyp\\price sentiment\\venv\\lib\\site-packages (from httpx>=0.25.0->jupyterlab<4.4,>=4.3.4->notebook) (1.0.7)\n",
      "Requirement already satisfied: h11<0.15,>=0.13 in d:\\fyp\\price sentiment\\venv\\lib\\site-packages (from httpcore==1.*->httpx>=0.25.0->jupyterlab<4.4,>=4.3.4->notebook) (0.14.0)\n",
      "Requirement already satisfied: comm>=0.1.1 in d:\\fyp\\price sentiment\\venv\\lib\\site-packages (from ipykernel>=6.5.0->jupyterlab<4.4,>=4.3.4->notebook) (0.2.2)\n",
      "Requirement already satisfied: debugpy>=1.6.5 in d:\\fyp\\price sentiment\\venv\\lib\\site-packages (from ipykernel>=6.5.0->jupyterlab<4.4,>=4.3.4->notebook) (1.8.12)\n",
      "Requirement already satisfied: ipython>=7.23.1 in d:\\fyp\\price sentiment\\venv\\lib\\site-packages (from ipykernel>=6.5.0->jupyterlab<4.4,>=4.3.4->notebook) (9.0.0)\n",
      "Requirement already satisfied: matplotlib-inline>=0.1 in d:\\fyp\\price sentiment\\venv\\lib\\site-packages (from ipykernel>=6.5.0->jupyterlab<4.4,>=4.3.4->notebook) (0.1.7)\n",
      "Requirement already satisfied: nest-asyncio in d:\\fyp\\price sentiment\\venv\\lib\\site-packages (from ipykernel>=6.5.0->jupyterlab<4.4,>=4.3.4->notebook) (1.6.0)\n",
      "Requirement already satisfied: psutil in d:\\fyp\\price sentiment\\venv\\lib\\site-packages (from ipykernel>=6.5.0->jupyterlab<4.4,>=4.3.4->notebook) (7.0.0)\n",
      "Requirement already satisfied: MarkupSafe>=2.0 in d:\\fyp\\price sentiment\\venv\\lib\\site-packages (from jinja2>=3.0.3->jupyter-server<3,>=2.4.0->notebook) (3.0.2)\n",
      "Requirement already satisfied: attrs>=22.2.0 in d:\\fyp\\price sentiment\\venv\\lib\\site-packages (from jsonschema>=4.18.0->jupyterlab-server<3,>=2.27.1->notebook) (25.1.0)\n",
      "Requirement already satisfied: jsonschema-specifications>=2023.03.6 in d:\\fyp\\price sentiment\\venv\\lib\\site-packages (from jsonschema>=4.18.0->jupyterlab-server<3,>=2.27.1->notebook) (2024.10.1)\n",
      "Requirement already satisfied: referencing>=0.28.4 in d:\\fyp\\price sentiment\\venv\\lib\\site-packages (from jsonschema>=4.18.0->jupyterlab-server<3,>=2.27.1->notebook) (0.36.2)\n",
      "Requirement already satisfied: rpds-py>=0.7.1 in d:\\fyp\\price sentiment\\venv\\lib\\site-packages (from jsonschema>=4.18.0->jupyterlab-server<3,>=2.27.1->notebook) (0.23.1)\n",
      "Requirement already satisfied: python-dateutil>=2.8.2 in d:\\fyp\\price sentiment\\venv\\lib\\site-packages (from jupyter-client>=7.4.4->jupyter-server<3,>=2.4.0->notebook) (2.9.0.post0)\n",
      "Requirement already satisfied: platformdirs>=2.5 in d:\\fyp\\price sentiment\\venv\\lib\\site-packages (from jupyter-core!=5.0.*,>=4.12->jupyter-server<3,>=2.4.0->notebook) (4.3.6)\n",
      "Requirement already satisfied: pywin32>=300 in d:\\fyp\\price sentiment\\venv\\lib\\site-packages (from jupyter-core!=5.0.*,>=4.12->jupyter-server<3,>=2.4.0->notebook) (308)\n",
      "Requirement already satisfied: python-json-logger>=2.0.4 in d:\\fyp\\price sentiment\\venv\\lib\\site-packages (from jupyter-events>=0.11.0->jupyter-server<3,>=2.4.0->notebook) (3.2.1)\n",
      "Requirement already satisfied: pyyaml>=5.3 in d:\\fyp\\price sentiment\\venv\\lib\\site-packages (from jupyter-events>=0.11.0->jupyter-server<3,>=2.4.0->notebook) (6.0.2)\n",
      "Requirement already satisfied: rfc3339-validator in d:\\fyp\\price sentiment\\venv\\lib\\site-packages (from jupyter-events>=0.11.0->jupyter-server<3,>=2.4.0->notebook) (0.1.4)\n",
      "Requirement already satisfied: rfc3986-validator>=0.1.1 in d:\\fyp\\price sentiment\\venv\\lib\\site-packages (from jupyter-events>=0.11.0->jupyter-server<3,>=2.4.0->notebook) (0.1.1)\n",
      "Requirement already satisfied: beautifulsoup4 in d:\\fyp\\price sentiment\\venv\\lib\\site-packages (from nbconvert>=6.4.4->jupyter-server<3,>=2.4.0->notebook) (4.13.3)\n",
      "Requirement already satisfied: bleach!=5.0.0 in d:\\fyp\\price sentiment\\venv\\lib\\site-packages (from bleach[css]!=5.0.0->nbconvert>=6.4.4->jupyter-server<3,>=2.4.0->notebook) (6.2.0)\n",
      "Requirement already satisfied: defusedxml in d:\\fyp\\price sentiment\\venv\\lib\\site-packages (from nbconvert>=6.4.4->jupyter-server<3,>=2.4.0->notebook) (0.7.1)\n",
      "Requirement already satisfied: jupyterlab-pygments in d:\\fyp\\price sentiment\\venv\\lib\\site-packages (from nbconvert>=6.4.4->jupyter-server<3,>=2.4.0->notebook) (0.3.0)\n",
      "Requirement already satisfied: mistune<4,>=2.0.3 in d:\\fyp\\price sentiment\\venv\\lib\\site-packages (from nbconvert>=6.4.4->jupyter-server<3,>=2.4.0->notebook) (3.1.2)\n",
      "Requirement already satisfied: nbclient>=0.5.0 in d:\\fyp\\price sentiment\\venv\\lib\\site-packages (from nbconvert>=6.4.4->jupyter-server<3,>=2.4.0->notebook) (0.10.2)\n",
      "Requirement already satisfied: pandocfilters>=1.4.1 in d:\\fyp\\price sentiment\\venv\\lib\\site-packages (from nbconvert>=6.4.4->jupyter-server<3,>=2.4.0->notebook) (1.5.1)\n",
      "Requirement already satisfied: pygments>=2.4.1 in d:\\fyp\\price sentiment\\venv\\lib\\site-packages (from nbconvert>=6.4.4->jupyter-server<3,>=2.4.0->notebook) (2.19.1)\n",
      "Requirement already satisfied: fastjsonschema>=2.15 in d:\\fyp\\price sentiment\\venv\\lib\\site-packages (from nbformat>=5.3.0->jupyter-server<3,>=2.4.0->notebook) (2.21.1)\n",
      "Requirement already satisfied: charset-normalizer<4,>=2 in d:\\fyp\\price sentiment\\venv\\lib\\site-packages (from requests>=2.31->jupyterlab-server<3,>=2.27.1->notebook) (3.4.1)\n",
      "Requirement already satisfied: urllib3<3,>=1.21.1 in d:\\fyp\\price sentiment\\venv\\lib\\site-packages (from requests>=2.31->jupyterlab-server<3,>=2.27.1->notebook) (2.3.0)\n",
      "Requirement already satisfied: webencodings in d:\\fyp\\price sentiment\\venv\\lib\\site-packages (from bleach!=5.0.0->bleach[css]!=5.0.0->nbconvert>=6.4.4->jupyter-server<3,>=2.4.0->notebook) (0.5.1)\n",
      "Requirement already satisfied: tinycss2<1.5,>=1.1.0 in d:\\fyp\\price sentiment\\venv\\lib\\site-packages (from bleach[css]!=5.0.0->nbconvert>=6.4.4->jupyter-server<3,>=2.4.0->notebook) (1.4.0)\n",
      "Requirement already satisfied: colorama in d:\\fyp\\price sentiment\\venv\\lib\\site-packages (from ipython>=7.23.1->ipykernel>=6.5.0->jupyterlab<4.4,>=4.3.4->notebook) (0.4.6)\n",
      "Requirement already satisfied: decorator in d:\\fyp\\price sentiment\\venv\\lib\\site-packages (from ipython>=7.23.1->ipykernel>=6.5.0->jupyterlab<4.4,>=4.3.4->notebook) (5.2.1)\n",
      "Requirement already satisfied: ipython-pygments-lexers in d:\\fyp\\price sentiment\\venv\\lib\\site-packages (from ipython>=7.23.1->ipykernel>=6.5.0->jupyterlab<4.4,>=4.3.4->notebook) (1.1.1)\n",
      "Requirement already satisfied: jedi>=0.16 in d:\\fyp\\price sentiment\\venv\\lib\\site-packages (from ipython>=7.23.1->ipykernel>=6.5.0->jupyterlab<4.4,>=4.3.4->notebook) (0.19.2)\n",
      "Requirement already satisfied: prompt_toolkit<3.1.0,>=3.0.41 in d:\\fyp\\price sentiment\\venv\\lib\\site-packages (from ipython>=7.23.1->ipykernel>=6.5.0->jupyterlab<4.4,>=4.3.4->notebook) (3.0.50)\n",
      "Requirement already satisfied: stack_data in d:\\fyp\\price sentiment\\venv\\lib\\site-packages (from ipython>=7.23.1->ipykernel>=6.5.0->jupyterlab<4.4,>=4.3.4->notebook) (0.6.3)\n",
      "Requirement already satisfied: fqdn in d:\\fyp\\price sentiment\\venv\\lib\\site-packages (from jsonschema[format-nongpl]>=4.18.0->jupyter-events>=0.11.0->jupyter-server<3,>=2.4.0->notebook) (1.5.1)\n",
      "Requirement already satisfied: isoduration in d:\\fyp\\price sentiment\\venv\\lib\\site-packages (from jsonschema[format-nongpl]>=4.18.0->jupyter-events>=0.11.0->jupyter-server<3,>=2.4.0->notebook) (20.11.0)\n",
      "Requirement already satisfied: jsonpointer>1.13 in d:\\fyp\\price sentiment\\venv\\lib\\site-packages (from jsonschema[format-nongpl]>=4.18.0->jupyter-events>=0.11.0->jupyter-server<3,>=2.4.0->notebook) (3.0.0)\n",
      "Requirement already satisfied: uri-template in d:\\fyp\\price sentiment\\venv\\lib\\site-packages (from jsonschema[format-nongpl]>=4.18.0->jupyter-events>=0.11.0->jupyter-server<3,>=2.4.0->notebook) (1.3.0)\n",
      "Requirement already satisfied: webcolors>=24.6.0 in d:\\fyp\\price sentiment\\venv\\lib\\site-packages (from jsonschema[format-nongpl]>=4.18.0->jupyter-events>=0.11.0->jupyter-server<3,>=2.4.0->notebook) (24.11.1)\n",
      "Requirement already satisfied: six>=1.5 in d:\\fyp\\price sentiment\\venv\\lib\\site-packages (from python-dateutil>=2.8.2->jupyter-client>=7.4.4->jupyter-server<3,>=2.4.0->notebook) (1.17.0)\n",
      "Requirement already satisfied: cffi>=1.0.1 in d:\\fyp\\price sentiment\\venv\\lib\\site-packages (from argon2-cffi-bindings->argon2-cffi>=21.1->jupyter-server<3,>=2.4.0->notebook) (1.17.1)\n",
      "Requirement already satisfied: soupsieve>1.2 in d:\\fyp\\price sentiment\\venv\\lib\\site-packages (from beautifulsoup4->nbconvert>=6.4.4->jupyter-server<3,>=2.4.0->notebook) (2.6)\n",
      "Requirement already satisfied: typing-extensions>=4.0.0 in d:\\fyp\\price sentiment\\venv\\lib\\site-packages (from beautifulsoup4->nbconvert>=6.4.4->jupyter-server<3,>=2.4.0->notebook) (4.12.2)\n",
      "Requirement already satisfied: pycparser in d:\\fyp\\price sentiment\\venv\\lib\\site-packages (from cffi>=1.0.1->argon2-cffi-bindings->argon2-cffi>=21.1->jupyter-server<3,>=2.4.0->notebook) (2.22)\n",
      "Requirement already satisfied: parso<0.9.0,>=0.8.4 in d:\\fyp\\price sentiment\\venv\\lib\\site-packages (from jedi>=0.16->ipython>=7.23.1->ipykernel>=6.5.0->jupyterlab<4.4,>=4.3.4->notebook) (0.8.4)\n",
      "Requirement already satisfied: wcwidth in d:\\fyp\\price sentiment\\venv\\lib\\site-packages (from prompt_toolkit<3.1.0,>=3.0.41->ipython>=7.23.1->ipykernel>=6.5.0->jupyterlab<4.4,>=4.3.4->notebook) (0.2.13)\n",
      "Requirement already satisfied: arrow>=0.15.0 in d:\\fyp\\price sentiment\\venv\\lib\\site-packages (from isoduration->jsonschema[format-nongpl]>=4.18.0->jupyter-events>=0.11.0->jupyter-server<3,>=2.4.0->notebook) (1.3.0)\n",
      "Requirement already satisfied: executing>=1.2.0 in d:\\fyp\\price sentiment\\venv\\lib\\site-packages (from stack_data->ipython>=7.23.1->ipykernel>=6.5.0->jupyterlab<4.4,>=4.3.4->notebook) (2.2.0)\n",
      "Requirement already satisfied: asttokens>=2.1.0 in d:\\fyp\\price sentiment\\venv\\lib\\site-packages (from stack_data->ipython>=7.23.1->ipykernel>=6.5.0->jupyterlab<4.4,>=4.3.4->notebook) (3.0.0)\n",
      "Requirement already satisfied: pure-eval in d:\\fyp\\price sentiment\\venv\\lib\\site-packages (from stack_data->ipython>=7.23.1->ipykernel>=6.5.0->jupyterlab<4.4,>=4.3.4->notebook) (0.2.3)\n",
      "Requirement already satisfied: types-python-dateutil>=2.8.10 in d:\\fyp\\price sentiment\\venv\\lib\\site-packages (from arrow>=0.15.0->isoduration->jsonschema[format-nongpl]>=4.18.0->jupyter-events>=0.11.0->jupyter-server<3,>=2.4.0->notebook) (2.9.0.20241206)\n"
     ]
    },
    {
     "name": "stderr",
     "output_type": "stream",
     "text": [
      "\n",
      "[notice] A new release of pip is available: 24.3.1 -> 25.0.1\n",
      "[notice] To update, run: python.exe -m pip install --upgrade pip\n"
     ]
    }
   ],
   "source": [
    "!pip install notebook"
   ]
  },
  {
   "cell_type": "code",
   "execution_count": 1,
   "id": "147314f6-4676-425e-a205-3460a5e4c4ba",
   "metadata": {},
   "outputs": [],
   "source": [
    "import json\n",
    "with open('../artifacts/kaggle.json', 'r') as file:\n",
    "    data =  json.load(file)"
   ]
  },
  {
   "cell_type": "code",
   "execution_count": 3,
   "id": "b67d60b3-7b3d-46a5-8a41-3c4532b03f94",
   "metadata": {},
   "outputs": [
    {
     "name": "stdout",
     "output_type": "stream",
     "text": [
      "{'username': 'chathuranimsara', 'key': 'fd34b4f4f829279b3d2864743c7aa96b'}\n"
     ]
    }
   ],
   "source": [
    "print(data)"
   ]
  },
  {
   "cell_type": "code",
   "execution_count": 4,
   "id": "da4937cb-9154-4420-837b-c4d4e3bb10e5",
   "metadata": {},
   "outputs": [
    {
     "name": "stdout",
     "output_type": "stream",
     "text": [
      "Collecting kaggle\n",
      "  Downloading kaggle-1.6.17.tar.gz (82 kB)\n",
      "  Installing build dependencies: started\n",
      "  Installing build dependencies: finished with status 'done'\n",
      "  Getting requirements to build wheel: started\n",
      "  Getting requirements to build wheel: finished with status 'done'\n",
      "  Preparing metadata (pyproject.toml): started\n",
      "  Preparing metadata (pyproject.toml): finished with status 'done'\n",
      "Requirement already satisfied: six>=1.10 in d:\\fyp\\price sentiment\\venv\\lib\\site-packages (from kaggle) (1.17.0)\n",
      "Requirement already satisfied: certifi>=2023.7.22 in d:\\fyp\\price sentiment\\venv\\lib\\site-packages (from kaggle) (2025.1.31)\n",
      "Requirement already satisfied: python-dateutil in d:\\fyp\\price sentiment\\venv\\lib\\site-packages (from kaggle) (2.9.0.post0)\n",
      "Requirement already satisfied: requests in d:\\fyp\\price sentiment\\venv\\lib\\site-packages (from kaggle) (2.32.3)\n",
      "Collecting tqdm (from kaggle)\n",
      "  Downloading tqdm-4.67.1-py3-none-any.whl.metadata (57 kB)\n",
      "Collecting python-slugify (from kaggle)\n",
      "  Downloading python_slugify-8.0.4-py2.py3-none-any.whl.metadata (8.5 kB)\n",
      "Requirement already satisfied: urllib3 in d:\\fyp\\price sentiment\\venv\\lib\\site-packages (from kaggle) (2.3.0)\n",
      "Requirement already satisfied: bleach in d:\\fyp\\price sentiment\\venv\\lib\\site-packages (from kaggle) (6.2.0)\n",
      "Requirement already satisfied: webencodings in d:\\fyp\\price sentiment\\venv\\lib\\site-packages (from bleach->kaggle) (0.5.1)\n",
      "Collecting text-unidecode>=1.3 (from python-slugify->kaggle)\n",
      "  Downloading text_unidecode-1.3-py2.py3-none-any.whl.metadata (2.4 kB)\n",
      "Requirement already satisfied: charset-normalizer<4,>=2 in d:\\fyp\\price sentiment\\venv\\lib\\site-packages (from requests->kaggle) (3.4.1)\n",
      "Requirement already satisfied: idna<4,>=2.5 in d:\\fyp\\price sentiment\\venv\\lib\\site-packages (from requests->kaggle) (3.10)\n",
      "Requirement already satisfied: colorama in d:\\fyp\\price sentiment\\venv\\lib\\site-packages (from tqdm->kaggle) (0.4.6)\n",
      "Downloading python_slugify-8.0.4-py2.py3-none-any.whl (10 kB)\n",
      "Downloading tqdm-4.67.1-py3-none-any.whl (78 kB)\n",
      "Downloading text_unidecode-1.3-py2.py3-none-any.whl (78 kB)\n",
      "Building wheels for collected packages: kaggle\n",
      "  Building wheel for kaggle (pyproject.toml): started\n",
      "  Building wheel for kaggle (pyproject.toml): finished with status 'done'\n",
      "  Created wheel for kaggle: filename=kaggle-1.6.17-py3-none-any.whl size=105854 sha256=87ec9e8df200e2a76dd93eb46ad8ce7675d07706db1100cbf645e78228f06ef8\n",
      "  Stored in directory: c:\\users\\chathura nimsara\\appdata\\local\\pip\\cache\\wheels\\93\\6e\\87\\6d3385c22c1284be8161dfa643c4a58009b8ee4f0ea9ca54ff\n",
      "Successfully built kaggle\n",
      "Installing collected packages: text-unidecode, tqdm, python-slugify, kaggle\n",
      "Successfully installed kaggle-1.6.17 python-slugify-8.0.4 text-unidecode-1.3 tqdm-4.67.1\n"
     ]
    },
    {
     "name": "stderr",
     "output_type": "stream",
     "text": [
      "\n",
      "[notice] A new release of pip is available: 24.3.1 -> 25.0.1\n",
      "[notice] To update, run: python.exe -m pip install --upgrade pip\n"
     ]
    }
   ],
   "source": [
    "!pip install kaggle"
   ]
  },
  {
   "cell_type": "code",
   "execution_count": 5,
   "id": "746b4db0-8dc7-49e9-a298-9c74cf919525",
   "metadata": {},
   "outputs": [],
   "source": [
    "import os\n",
    "os.environ['KAGGLE_USERNAME'] = data['username']\n",
    "os.environ['KAGGLE_API_KEY'] = data['key']"
   ]
  },
  {
   "cell_type": "code",
   "execution_count": null,
   "id": "d2732d67-b093-4e44-a702-4163d5d00f6e",
   "metadata": {},
   "outputs": [],
   "source": []
  }
 ],
 "metadata": {
  "kernelspec": {
   "display_name": "Python 3 (ipykernel)",
   "language": "python",
   "name": "python3"
  },
  "language_info": {
   "codemirror_mode": {
    "name": "ipython",
    "version": 3
   },
   "file_extension": ".py",
   "mimetype": "text/x-python",
   "name": "python",
   "nbconvert_exporter": "python",
   "pygments_lexer": "ipython3",
   "version": "3.13.2"
  }
 },
 "nbformat": 4,
 "nbformat_minor": 5
}
